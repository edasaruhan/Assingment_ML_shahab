{
 "cells": [
  {
   "cell_type": "raw",
   "id": "7526f188",
   "metadata": {},
   "source": [
    "# Assignment: Binary Classification with Logistic Regression"
   ]
  },
  {
   "cell_type": "code",
   "execution_count": 1,
   "id": "8b59080a",
   "metadata": {},
   "outputs": [],
   "source": [
    "# Import libraries\n",
    "import numpy as np\n",
    "import pandas as pd\n",
    "from sklearn.datasets import load_iris\n",
    "from sklearn.model_selection import train_test_split\n",
    "from sklearn.metrics import accuracy_score, confusion_matrix, classification_report\n"
   ]
  },
  {
   "cell_type": "code",
   "execution_count": 2,
   "id": "dd3f3c88",
   "metadata": {},
   "outputs": [],
   "source": [
    "# Step 1: Load the Iris dataset\n",
    "iris = load_iris()\n",
    "\n",
    "# Extract the feature matrix X and the target vector y\n",
    "X = iris.data\n",
    "y = iris.target"
   ]
  },
  {
   "cell_type": "code",
   "execution_count": 3,
   "id": "90e7856f",
   "metadata": {},
   "outputs": [],
   "source": [
    "# Step 2: Preprocess the data\n",
    "# Convert to binary classification: Iris Setosa (class 0) vs. Others (class 1)\n",
    "y_binary = (y == 0).astype(int)"
   ]
  },
  {
   "cell_type": "code",
   "execution_count": 4,
   "id": "7a1e544d",
   "metadata": {},
   "outputs": [],
   "source": [
    "# Step 3: Split the dataset\n",
    "X_train, X_test, y_train, y_test = train_test_split(X, y_binary, test_size=0.2, random_state=42)"
   ]
  },
  {
   "cell_type": "code",
   "execution_count": 5,
   "id": "9296f7d1",
   "metadata": {},
   "outputs": [
    {
     "name": "stdout",
     "output_type": "stream",
     "text": [
      "Logistic Loss: [0.10536052 0.10536052 0.22314355 0.22314355 0.35667494]\n"
     ]
    }
   ],
   "source": [
    "# Step 4: Define the cost function (logistic loss)\n",
    "def logistic_loss(y_true, y_pred):\n",
    "    epsilon = 1e-15   # Small constant to avoid log(0)\n",
    "    y_pred = np.clip(y_pred, epsilon, 1 - epsilon)\n",
    "    return - (y_true * np.log(y_pred) + (1 - y_true) * np.log(1 - y_pred))\n",
    "y_true = np.array([1, 0, 1, 0, 1])  # True binary labels\n",
    "y_pred = np.array([0.9, 0.1, 0.8, 0.2, 0.7])  # Predicted probabilities\n",
    "\n",
    "# Calculate the logistic loss\n",
    "loss = logistic_loss(y_true, y_pred)\n",
    "\n",
    "# result\n",
    "print(\"Logistic Loss:\", loss)"
   ]
  },
  {
   "cell_type": "code",
   "execution_count": 6,
   "id": "6143cdba",
   "metadata": {},
   "outputs": [],
   "source": [
    "# Step 5: Define the training function (Gradient Descent)\n",
    "# This function takes input data, a learning rate, a number of iterations, \n",
    "# and a regularization parameter as arguments\n",
    "def train_logistic_regression(X, y, learning_rate, num_iterations, reg_param):\n",
    "    n_samples, n_features = X.shape\n",
    "    W = np.zeros(n_features)\n",
    "    b = 0\n",
    "\n",
    "    for epoch in range(num_iterations):\n",
    "        # raw predictions\n",
    "        z = np.dot(X, W) + b\n",
    "        # sigmoid function to get probabilities\n",
    "        y_pred = 1 / (1 + np.exp(-z))\n",
    "\n",
    "        # Compute gradients\n",
    "        dw = (1 / n_samples) * np.dot(X.T, (y_pred - y))\n",
    "        db = (1 / n_samples) * np.sum(y_pred - y)\n",
    "\n",
    "        # Regularization \n",
    "        dw += (reg_param / n_samples) * W\n",
    "\n",
    "        # Update w and b (weight and bais)\n",
    "        W -= learning_rate * dw\n",
    "        b -= learning_rate * db\n",
    "\n",
    "    return W, b"
   ]
  },
  {
   "cell_type": "code",
   "execution_count": 7,
   "id": "56acbf5d",
   "metadata": {},
   "outputs": [],
   "source": [
    "# Step 6: Train the model\n",
    "learning_rate = 0.01\n",
    "num_iterations = 1000\n",
    "reg_param = 0.1\n",
    "# Train the logistic regression model\n",
    "W, b = train_logistic_regression(X_train, y_train, learning_rate, num_iterations, reg_param)"
   ]
  },
  {
   "cell_type": "code",
   "execution_count": 8,
   "id": "907e418f",
   "metadata": {},
   "outputs": [],
   "source": [
    "# Step 7: Define the prediction function\n",
    "def predict(X, W, b):\n",
    "    z = np.dot(X, W) + b\n",
    "    y_pred = 1 / (1 + np.exp(-z))\n",
    "    return np.round(y_pred).astype(int)"
   ]
  },
  {
   "cell_type": "code",
   "execution_count": 9,
   "id": "d0e19595",
   "metadata": {},
   "outputs": [],
   "source": [
    "# Step 8: Predict on the test set\n",
    "y_pred_test = predict(X_test, W, b)"
   ]
  },
  {
   "cell_type": "code",
   "execution_count": 10,
   "id": "81f8322a",
   "metadata": {},
   "outputs": [],
   "source": [
    "# Step 9: Evaluate the model's performance\n",
    "accuracy = accuracy_score(y_test, y_pred_test)\n",
    "confusion = confusion_matrix(y_test, y_pred_test)\n",
    "report = classification_report(y_test, y_pred_test)"
   ]
  },
  {
   "cell_type": "code",
   "execution_count": 12,
   "id": "30b9719f",
   "metadata": {},
   "outputs": [
    {
     "name": "stdout",
     "output_type": "stream",
     "text": [
      "Final Accuracy: 1.0\n",
      "Confusion Matrix:\n",
      " [[20  0]\n",
      " [ 0 10]]\n",
      "Classification Report:\n",
      "               precision    recall  f1-score   support\n",
      "\n",
      "           0       1.00      1.00      1.00        20\n",
      "           1       1.00      1.00      1.00        10\n",
      "\n",
      "    accuracy                           1.00        30\n",
      "   macro avg       1.00      1.00      1.00        30\n",
      "weighted avg       1.00      1.00      1.00        30\n",
      "\n"
     ]
    }
   ],
   "source": [
    "# Print the results\n",
    "print(\"Final Accuracy:\", accuracy)\n",
    "print(\"Confusion Matrix:\\n\", confusion)\n",
    "print(\"Classification Report:\\n\", report)\n",
    "'''\n",
    "20 true positive TP predictions, \n",
    "10 true negative TN predictions, \n",
    "and no false positives FP or false negatives FN. \n",
    "confirms the perfect accuracy.\n",
    "'''"
   ]
  },
  {
   "cell_type": "code",
   "execution_count": null,
   "id": "d66b23b7",
   "metadata": {},
   "outputs": [],
   "source": []
  },
  {
   "cell_type": "code",
   "execution_count": null,
   "id": "dca53717",
   "metadata": {},
   "outputs": [],
   "source": []
  },
  {
   "cell_type": "code",
   "execution_count": null,
   "id": "ae9bcbef",
   "metadata": {},
   "outputs": [],
   "source": []
  }
 ],
 "metadata": {
  "kernelspec": {
   "display_name": "Python 3 (ipykernel)",
   "language": "python",
   "name": "python3"
  },
  "language_info": {
   "codemirror_mode": {
    "name": "ipython",
    "version": 3
   },
   "file_extension": ".py",
   "mimetype": "text/x-python",
   "name": "python",
   "nbconvert_exporter": "python",
   "pygments_lexer": "ipython3",
   "version": "3.9.12"
  }
 },
 "nbformat": 4,
 "nbformat_minor": 5
}
